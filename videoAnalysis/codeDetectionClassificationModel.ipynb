{
 "cells": [
  {
   "cell_type": "markdown",
   "metadata": {
    "id": "JP7toFfuffRJ"
   },
   "source": []
  },
  {
   "cell_type": "code",
   "execution_count": 1,
   "metadata": {
    "colab": {
     "base_uri": "https://localhost:8080/"
    },
    "id": "m9jFFHsuq6zi",
    "outputId": "86c117e8-c8be-4853-9b2e-c65da9913553"
   },
   "outputs": [
    {
     "name": "stdout",
     "output_type": "stream",
     "text": [
      "Mounted at /content/drive/\n"
     ]
    }
   ],
   "source": [
    "from google.colab import drive\n",
    "drive.mount('/content/drive/')"
   ]
  },
  {
   "cell_type": "code",
   "execution_count": 2,
   "metadata": {
    "colab": {
     "base_uri": "https://localhost:8080/"
    },
    "id": "okoxi_6qWU-b",
    "outputId": "79283dce-74f1-4d10-86e6-de395397d7f2"
   },
   "outputs": [
    {
     "name": "stdout",
     "output_type": "stream",
     "text": [
      "/content/drive/MyDrive/assessmentanalysis\n"
     ]
    }
   ],
   "source": [
    "%cd /content/drive/MyDrive/assessmentanalysis/"
   ]
  },
  {
   "cell_type": "code",
   "execution_count": 5,
   "metadata": {
    "id": "emD4xGY2VHmV"
   },
   "outputs": [],
   "source": [
    "import torch\n",
    "import torch.nn as nn\n",
    "import torch.optim as optim\n",
    "from torch.utils.data import DataLoader, Dataset\n",
    "from torchvision import transforms, models, datasets\n",
    "import os\n",
    "from PIL import Image\n",
    "from sklearn.model_selection import train_test_split\n",
    "import shutil\n",
    "import numpy as np\n",
    "\n",
    "# Set device\n",
    "device = torch.device(\"cuda\" if torch.cuda.is_available() else \"cpu\")"
   ]
  },
  {
   "cell_type": "code",
   "execution_count": null,
   "metadata": {
    "id": "bSzGd20c1A0S"
   },
   "outputs": [],
   "source": [
    "def create_train_val_folders(data_dir, val_size=0.2):\n",
    "    classes = os.listdir(data_dir)\n",
    "    os.makedirs(os.path.join(data_dir, 'train'), exist_ok=True)\n",
    "    os.makedirs(os.path.join(data_dir, 'val'), exist_ok=True)\n",
    "\n",
    "    for cls in classes:\n",
    "        os.makedirs(os.path.join(data_dir, 'train', cls), exist_ok=True)\n",
    "        os.makedirs(os.path.join(data_dir, 'val', cls), exist_ok=True)\n",
    "        # Get all the images\n",
    "        images = os.listdir(os.path.join(data_dir, cls))\n",
    "        # Split the images\n",
    "        train_imgs, val_imgs = train_test_split(images, test_size=val_size, random_state=42)\n",
    "        # Move images to respective folders\n",
    "        for img in train_imgs:\n",
    "            shutil.move(os.path.join(data_dir, cls, img), os.path.join(data_dir, 'train', cls))\n",
    "        for img in val_imgs:\n",
    "            shutil.move(os.path.join(data_dir, cls, img), os.path.join(data_dir, 'val', cls))\n",
    "\n",
    "# Call the function with the path of dataset\n",
    "data_dir = './dataset'\n",
    "create_train_val_folders(data_dir)\n"
   ]
  },
  {
   "cell_type": "code",
   "execution_count": 7,
   "metadata": {
    "id": "UsznP-iVztH6"
   },
   "outputs": [],
   "source": [
    "data_transforms = {\n",
    "    'train': transforms.Compose([\n",
    "        transforms.RandomResizedCrop(224),\n",
    "        transforms.RandomHorizontalFlip(),\n",
    "        transforms.ToTensor(),\n",
    "        transforms.Normalize([0.485, 0.456, 0.406], [0.229, 0.224, 0.225])  # Imagenet standards\n",
    "    ]),\n",
    "    'val': transforms.Compose([\n",
    "        transforms.Resize(256),\n",
    "        transforms.CenterCrop(224),\n",
    "        transforms.ToTensor(),\n",
    "        transforms.Normalize([0.485, 0.456, 0.406], [0.229, 0.224, 0.225])\n",
    "    ])\n",
    "}\n",
    "\n",
    "# Load data from folders\n",
    "data_dir = './dataset'\n",
    "image_datasets = {x: datasets.ImageFolder(os.path.join(data_dir, x), data_transforms[x])\n",
    "                  for x in ['train', 'val']}\n",
    "dataloaders = {x: DataLoader(image_datasets[x], batch_size=4, shuffle=True, num_workers=4)\n",
    "               for x in ['train', 'val']}\n",
    "dataset_sizes = {x: len(image_datasets[x]) for x in ['train', 'val']}\n",
    "class_names = image_datasets['train'].classes\n"
   ]
  },
  {
   "cell_type": "code",
   "execution_count": null,
   "metadata": {
    "colab": {
     "base_uri": "https://localhost:8080/"
    },
    "id": "504fi1i4zwNY",
    "outputId": "573d0388-e3d9-4fc7-fe1d-27465fba9cdb"
   },
   "outputs": [
    {
     "name": "stderr",
     "output_type": "stream",
     "text": [
      "/usr/local/lib/python3.10/dist-packages/torchvision/models/_utils.py:208: UserWarning: The parameter 'pretrained' is deprecated since 0.13 and may be removed in the future, please use 'weights' instead.\n",
      "  warnings.warn(\n",
      "/usr/local/lib/python3.10/dist-packages/torchvision/models/_utils.py:223: UserWarning: Arguments other than a weight enum or `None` for 'weights' are deprecated since 0.13 and may be removed in the future. The current behavior is equivalent to passing `weights=ResNet18_Weights.IMAGENET1K_V1`. You can also use `weights=ResNet18_Weights.DEFAULT` to get the most up-to-date weights.\n",
      "  warnings.warn(msg)\n",
      "Downloading: \"https://download.pytorch.org/models/resnet18-f37072fd.pth\" to /root/.cache/torch/hub/checkpoints/resnet18-f37072fd.pth\n",
      "100%|██████████| 44.7M/44.7M [00:00<00:00, 219MB/s]\n"
     ]
    }
   ],
   "source": [
    "model = models.resnet18(pretrained=True)\n",
    "num_ftrs = model.fc.in_features\n",
    "model.fc = nn.Linear(num_ftrs, 2)  # Changing the final layer for binary classification (code or other)\n",
    "\n",
    "model = model.to(device)\n"
   ]
  },
  {
   "cell_type": "code",
   "execution_count": null,
   "metadata": {
    "id": "XEz6Zl6OzzoB"
   },
   "outputs": [],
   "source": [
    "criterion = nn.CrossEntropyLoss()\n",
    "optimizer = optim.SGD(model.parameters(), lr=0.001, momentum=0.9) # Stochastic gradient descent\n"
   ]
  },
  {
   "cell_type": "code",
   "execution_count": 10,
   "metadata": {
    "colab": {
     "base_uri": "https://localhost:8080/"
    },
    "id": "DKjZIaMmz3AD",
    "outputId": "c2b3a624-4a04-4b19-aac8-952e1022fe7a"
   },
   "outputs": [
    {
     "name": "stdout",
     "output_type": "stream",
     "text": [
      "Epoch 1/25\n",
      "----------\n",
      "train Loss: 0.7519 Acc: 0.4375\n",
      "val Loss: 0.5125 Acc: 0.8333\n",
      "Epoch 2/25\n",
      "----------\n",
      "train Loss: 0.4556 Acc: 0.7708\n",
      "val Loss: 0.4540 Acc: 0.7500\n",
      "Epoch 3/25\n",
      "----------\n",
      "train Loss: 0.5557 Acc: 0.7083\n",
      "val Loss: 0.7466 Acc: 0.6667\n",
      "Epoch 4/25\n",
      "----------\n",
      "train Loss: 0.5405 Acc: 0.7708\n",
      "val Loss: 0.3798 Acc: 0.9167\n",
      "Epoch 5/25\n",
      "----------\n",
      "train Loss: 0.7201 Acc: 0.7500\n",
      "val Loss: 0.2412 Acc: 0.9167\n",
      "Epoch 6/25\n",
      "----------\n",
      "train Loss: 0.3674 Acc: 0.8958\n",
      "val Loss: 0.3281 Acc: 0.7500\n",
      "Epoch 7/25\n",
      "----------\n",
      "train Loss: 0.3651 Acc: 0.8125\n",
      "val Loss: 0.0723 Acc: 1.0000\n",
      "Epoch 8/25\n",
      "----------\n",
      "train Loss: 0.8032 Acc: 0.6875\n",
      "val Loss: 0.0950 Acc: 1.0000\n",
      "Epoch 9/25\n",
      "----------\n",
      "train Loss: 0.5160 Acc: 0.7917\n",
      "val Loss: 0.2599 Acc: 0.9167\n",
      "Epoch 10/25\n",
      "----------\n",
      "train Loss: 0.5248 Acc: 0.7500\n",
      "val Loss: 0.1471 Acc: 0.8333\n",
      "Epoch 11/25\n",
      "----------\n",
      "train Loss: 0.7679 Acc: 0.7708\n",
      "val Loss: 0.4075 Acc: 0.9167\n",
      "Epoch 12/25\n",
      "----------\n",
      "train Loss: 0.2927 Acc: 0.8958\n",
      "val Loss: 0.1154 Acc: 0.9167\n",
      "Epoch 13/25\n",
      "----------\n",
      "train Loss: 0.3743 Acc: 0.8958\n",
      "val Loss: 0.0614 Acc: 1.0000\n",
      "Epoch 14/25\n",
      "----------\n",
      "train Loss: 0.4080 Acc: 0.8542\n",
      "val Loss: 0.0418 Acc: 1.0000\n",
      "Epoch 15/25\n",
      "----------\n",
      "train Loss: 0.7731 Acc: 0.7292\n",
      "val Loss: 0.0619 Acc: 1.0000\n",
      "Epoch 16/25\n",
      "----------\n",
      "train Loss: 0.3741 Acc: 0.8333\n",
      "val Loss: 0.1370 Acc: 0.9167\n",
      "Epoch 17/25\n",
      "----------\n",
      "train Loss: 0.5647 Acc: 0.7500\n",
      "val Loss: 0.0884 Acc: 1.0000\n",
      "Epoch 18/25\n",
      "----------\n",
      "train Loss: 0.4426 Acc: 0.8542\n",
      "val Loss: 0.0486 Acc: 1.0000\n",
      "Epoch 19/25\n",
      "----------\n",
      "train Loss: 0.6465 Acc: 0.8125\n",
      "val Loss: 0.0578 Acc: 1.0000\n",
      "Epoch 20/25\n",
      "----------\n",
      "train Loss: 0.4138 Acc: 0.7917\n",
      "val Loss: 0.2539 Acc: 0.7500\n",
      "Epoch 21/25\n",
      "----------\n",
      "train Loss: 0.7505 Acc: 0.6875\n",
      "val Loss: 0.0386 Acc: 1.0000\n",
      "Epoch 22/25\n",
      "----------\n",
      "train Loss: 0.3002 Acc: 0.8750\n",
      "val Loss: 0.0491 Acc: 1.0000\n",
      "Epoch 23/25\n",
      "----------\n",
      "train Loss: 0.2758 Acc: 0.8750\n",
      "val Loss: 0.0648 Acc: 1.0000\n",
      "Epoch 24/25\n",
      "----------\n",
      "train Loss: 0.4591 Acc: 0.7917\n",
      "val Loss: 0.0245 Acc: 1.0000\n",
      "Epoch 25/25\n",
      "----------\n",
      "train Loss: 0.4199 Acc: 0.8125\n",
      "val Loss: 0.0488 Acc: 1.0000\n"
     ]
    }
   ],
   "source": [
    "def train_model(model, criterion, optimizer, num_epochs=25):\n",
    "    for epoch in range(num_epochs):\n",
    "        print(f'Epoch {epoch+1}/{num_epochs}')\n",
    "        print('-' * 10)\n",
    "\n",
    "        for phase in ['train', 'val']:\n",
    "            if phase == 'train':\n",
    "                model.train()  # Set model to training mode\n",
    "            else:\n",
    "                model.eval()   # Set model to evaluate mode\n",
    "\n",
    "            running_loss = 0.0\n",
    "            running_corrects = 0\n",
    "\n",
    "            for inputs, labels in dataloaders[phase]:\n",
    "                inputs = inputs.to(device)\n",
    "                labels = labels.to(device)\n",
    "\n",
    "                optimizer.zero_grad()\n",
    "\n",
    "                with torch.set_grad_enabled(phase == 'train'):\n",
    "                    outputs = model(inputs)\n",
    "                    _, preds = torch.max(outputs, 1)\n",
    "                    loss = criterion(outputs, labels)\n",
    "\n",
    "                    if phase == 'train':\n",
    "                        loss.backward()\n",
    "                        optimizer.step()\n",
    "\n",
    "                running_loss += loss.item() * inputs.size(0)\n",
    "                running_corrects += torch.sum(preds == labels.data)\n",
    "            epoch_loss = running_loss / dataset_sizes[phase]\n",
    "            epoch_acc = running_corrects.double() / dataset_sizes[phase]\n",
    "\n",
    "            print(f'{phase} Loss: {epoch_loss:.4f} Acc: {epoch_acc:.4f}')\n",
    "\n",
    "    return model\n",
    "\n",
    "model = train_model(model, criterion, optimizer, num_epochs=25)\n",
    "torch.save(model.state_dict(), 'code_detect.pth')"
   ]
  },
  {
   "cell_type": "code",
   "execution_count": null,
   "metadata": {
    "colab": {
     "base_uri": "https://localhost:8080/"
    },
    "id": "nWh6Vp572e9g",
    "outputId": "158e46c7-c339-4fe1-ecfb-9680cdd9cee2"
   },
   "outputs": [
    {
     "name": "stdout",
     "output_type": "stream",
     "text": [
      "Code\n"
     ]
    },
    {
     "name": "stderr",
     "output_type": "stream",
     "text": [
      "<ipython-input-19-25ae0be5f4d8>:23: FutureWarning: You are using `torch.load` with `weights_only=False` (the current default value), which uses the default pickle module implicitly. It is possible to construct malicious pickle data which will execute arbitrary code during unpickling (See https://github.com/pytorch/pytorch/blob/main/SECURITY.md#untrusted-models for more details). In a future release, the default value for `weights_only` will be flipped to `True`. This limits the functions that could be executed during unpickling. Arbitrary objects will no longer be allowed to be loaded via this mode unless they are explicitly allowlisted by the user via `torch.serialization.add_safe_globals`. We recommend you start setting `weights_only=True` for any use case where you don't have full control of the loaded file. Please open an issue on GitHub for any issues related to this experimental feature.\n",
      "  loaded_model.load_state_dict(torch.load('code_detect.pth'))\n"
     ]
    }
   ],
   "source": [
    "import torch\n",
    "from torchvision import models, transforms\n",
    "from PIL import Image\n",
    "\n",
    "data_transforms = {\n",
    "   'val': transforms.Compose([\n",
    "       transforms.Resize(256),\n",
    "       transforms.CenterCrop(224),\n",
    "       transforms.ToTensor(),\n",
    "       transforms.Normalize([0.485, 0.456, 0.406], [0.229, 0.224, 0.225])\n",
    "   ])\n",
    "}\n",
    "\n",
    "device = torch.device(\"cuda\" if torch.cuda.is_available() else \"cpu\")\n",
    "\n",
    "# Load the model structure\n",
    "loaded_model = models.resnet18(pretrained=False)\n",
    "num_ftrs = loaded_model.fc.in_features\n",
    "loaded_model.fc = nn.Linear(num_ftrs, 2)\n",
    "\n",
    "# Load the trained weights\n",
    "loaded_model.load_state_dict(torch.load('code_detect.pth'))\n",
    "loaded_model = loaded_model.to(device)\n",
    "loaded_model.eval()  # Set to evaluation mode\n",
    "\n",
    "def predict_image(image_path, model):\n",
    "    \"\"\"\n",
    "    Predicts the class of an image using the provided model.\n",
    "\n",
    "    Args:\n",
    "    image_path (str): Path to the image file.\n",
    "    model (torch.nn.Module): The trained model.\n",
    "\n",
    "    Returns:\n",
    "    str: The predicted class name.\n",
    "    \"\"\"\n",
    "    image = Image.open(image_path).convert('RGB') # Convert image to RGB\n",
    "    image = data_transforms['val'](image).unsqueeze(0).to(device)\n",
    "\n",
    "    with torch.no_grad():\n",
    "        outputs = model(image)\n",
    "        _, preds = torch.max(outputs, 1)\n",
    "\n",
    "    class_names = ['Code', 'Other']  # Define class names for classification\n",
    "    return class_names[preds[0]]\n",
    "\n",
    "# Predict class of an image by uing the function\n",
    "image_path = '/content/drive/MyDrive/assessmentanalysis/dataset/train/Code/Screenshot (105).png'\n",
    "print(predict_image(image_path, loaded_model))"
   ]
  }
 ],
 "metadata": {
  "accelerator": "GPU",
  "colab": {
   "gpuType": "T4",
   "machine_shape": "hm",
   "provenance": []
  },
  "kernelspec": {
   "display_name": "Python 3",
   "name": "python3"
  },
  "language_info": {
   "name": "python"
  }
 },
 "nbformat": 4,
 "nbformat_minor": 0
}
